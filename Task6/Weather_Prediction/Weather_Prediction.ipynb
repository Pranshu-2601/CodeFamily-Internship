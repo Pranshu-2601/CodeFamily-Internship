{
  "nbformat": 4,
  "nbformat_minor": 0,
  "metadata": {
    "colab": {
      "name": "Weather_Prediction.ipynb",
      "provenance": []
    },
    "kernelspec": {
      "name": "python3",
      "display_name": "Python 3"
    },
    "language_info": {
      "name": "python"
    }
  },
  "cells": [
    {
      "cell_type": "code",
      "execution_count": 3,
      "metadata": {
        "colab": {
          "base_uri": "https://localhost:8080/",
          "height": 267
        },
        "id": "TO92REY98mzV",
        "outputId": "dfbe7d86-b2f8-4a04-ade7-94d599302883"
      },
      "outputs": [
        {
          "output_type": "execute_result",
          "data": {
            "text/plain": [
              "   Temperature (C)  Apparent Temperature (C)  Wind Speed (km/h)  \\\n",
              "0         9.472222                  7.388889            14.1197   \n",
              "1         9.355556                  7.227778            14.2646   \n",
              "2         9.377778                  9.377778             3.9284   \n",
              "3         8.288889                  5.944444            14.1036   \n",
              "4         8.755556                  6.977778            11.0446   \n",
              "\n",
              "   Wind Bearing (degrees)  Visibility (km)  Cloud Cover  Pressure (millibars)  \\\n",
              "0                     251          15.8263            0               1015.13   \n",
              "1                     259          15.8263            0               1015.63   \n",
              "2                     204          14.9569            0               1015.94   \n",
              "3                     269          15.8263            0               1016.41   \n",
              "4                     259          15.8263            0               1016.51   \n",
              "\n",
              "   Humidity  \n",
              "0      0.89  \n",
              "1      0.86  \n",
              "2      0.89  \n",
              "3      0.83  \n",
              "4      0.83  "
            ],
            "text/html": [
              "\n",
              "  <div id=\"df-5d3e03ea-89fd-4083-a58a-d0c34b1535f3\">\n",
              "    <div class=\"colab-df-container\">\n",
              "      <div>\n",
              "<style scoped>\n",
              "    .dataframe tbody tr th:only-of-type {\n",
              "        vertical-align: middle;\n",
              "    }\n",
              "\n",
              "    .dataframe tbody tr th {\n",
              "        vertical-align: top;\n",
              "    }\n",
              "\n",
              "    .dataframe thead th {\n",
              "        text-align: right;\n",
              "    }\n",
              "</style>\n",
              "<table border=\"1\" class=\"dataframe\">\n",
              "  <thead>\n",
              "    <tr style=\"text-align: right;\">\n",
              "      <th></th>\n",
              "      <th>Temperature (C)</th>\n",
              "      <th>Apparent Temperature (C)</th>\n",
              "      <th>Wind Speed (km/h)</th>\n",
              "      <th>Wind Bearing (degrees)</th>\n",
              "      <th>Visibility (km)</th>\n",
              "      <th>Cloud Cover</th>\n",
              "      <th>Pressure (millibars)</th>\n",
              "      <th>Humidity</th>\n",
              "    </tr>\n",
              "  </thead>\n",
              "  <tbody>\n",
              "    <tr>\n",
              "      <th>0</th>\n",
              "      <td>9.472222</td>\n",
              "      <td>7.388889</td>\n",
              "      <td>14.1197</td>\n",
              "      <td>251</td>\n",
              "      <td>15.8263</td>\n",
              "      <td>0</td>\n",
              "      <td>1015.13</td>\n",
              "      <td>0.89</td>\n",
              "    </tr>\n",
              "    <tr>\n",
              "      <th>1</th>\n",
              "      <td>9.355556</td>\n",
              "      <td>7.227778</td>\n",
              "      <td>14.2646</td>\n",
              "      <td>259</td>\n",
              "      <td>15.8263</td>\n",
              "      <td>0</td>\n",
              "      <td>1015.63</td>\n",
              "      <td>0.86</td>\n",
              "    </tr>\n",
              "    <tr>\n",
              "      <th>2</th>\n",
              "      <td>9.377778</td>\n",
              "      <td>9.377778</td>\n",
              "      <td>3.9284</td>\n",
              "      <td>204</td>\n",
              "      <td>14.9569</td>\n",
              "      <td>0</td>\n",
              "      <td>1015.94</td>\n",
              "      <td>0.89</td>\n",
              "    </tr>\n",
              "    <tr>\n",
              "      <th>3</th>\n",
              "      <td>8.288889</td>\n",
              "      <td>5.944444</td>\n",
              "      <td>14.1036</td>\n",
              "      <td>269</td>\n",
              "      <td>15.8263</td>\n",
              "      <td>0</td>\n",
              "      <td>1016.41</td>\n",
              "      <td>0.83</td>\n",
              "    </tr>\n",
              "    <tr>\n",
              "      <th>4</th>\n",
              "      <td>8.755556</td>\n",
              "      <td>6.977778</td>\n",
              "      <td>11.0446</td>\n",
              "      <td>259</td>\n",
              "      <td>15.8263</td>\n",
              "      <td>0</td>\n",
              "      <td>1016.51</td>\n",
              "      <td>0.83</td>\n",
              "    </tr>\n",
              "  </tbody>\n",
              "</table>\n",
              "</div>\n",
              "      <button class=\"colab-df-convert\" onclick=\"convertToInteractive('df-5d3e03ea-89fd-4083-a58a-d0c34b1535f3')\"\n",
              "              title=\"Convert this dataframe to an interactive table.\"\n",
              "              style=\"display:none;\">\n",
              "        \n",
              "  <svg xmlns=\"http://www.w3.org/2000/svg\" height=\"24px\"viewBox=\"0 0 24 24\"\n",
              "       width=\"24px\">\n",
              "    <path d=\"M0 0h24v24H0V0z\" fill=\"none\"/>\n",
              "    <path d=\"M18.56 5.44l.94 2.06.94-2.06 2.06-.94-2.06-.94-.94-2.06-.94 2.06-2.06.94zm-11 1L8.5 8.5l.94-2.06 2.06-.94-2.06-.94L8.5 2.5l-.94 2.06-2.06.94zm10 10l.94 2.06.94-2.06 2.06-.94-2.06-.94-.94-2.06-.94 2.06-2.06.94z\"/><path d=\"M17.41 7.96l-1.37-1.37c-.4-.4-.92-.59-1.43-.59-.52 0-1.04.2-1.43.59L10.3 9.45l-7.72 7.72c-.78.78-.78 2.05 0 2.83L4 21.41c.39.39.9.59 1.41.59.51 0 1.02-.2 1.41-.59l7.78-7.78 2.81-2.81c.8-.78.8-2.07 0-2.86zM5.41 20L4 18.59l7.72-7.72 1.47 1.35L5.41 20z\"/>\n",
              "  </svg>\n",
              "      </button>\n",
              "      \n",
              "  <style>\n",
              "    .colab-df-container {\n",
              "      display:flex;\n",
              "      flex-wrap:wrap;\n",
              "      gap: 12px;\n",
              "    }\n",
              "\n",
              "    .colab-df-convert {\n",
              "      background-color: #E8F0FE;\n",
              "      border: none;\n",
              "      border-radius: 50%;\n",
              "      cursor: pointer;\n",
              "      display: none;\n",
              "      fill: #1967D2;\n",
              "      height: 32px;\n",
              "      padding: 0 0 0 0;\n",
              "      width: 32px;\n",
              "    }\n",
              "\n",
              "    .colab-df-convert:hover {\n",
              "      background-color: #E2EBFA;\n",
              "      box-shadow: 0px 1px 2px rgba(60, 64, 67, 0.3), 0px 1px 3px 1px rgba(60, 64, 67, 0.15);\n",
              "      fill: #174EA6;\n",
              "    }\n",
              "\n",
              "    [theme=dark] .colab-df-convert {\n",
              "      background-color: #3B4455;\n",
              "      fill: #D2E3FC;\n",
              "    }\n",
              "\n",
              "    [theme=dark] .colab-df-convert:hover {\n",
              "      background-color: #434B5C;\n",
              "      box-shadow: 0px 1px 3px 1px rgba(0, 0, 0, 0.15);\n",
              "      filter: drop-shadow(0px 1px 2px rgba(0, 0, 0, 0.3));\n",
              "      fill: #FFFFFF;\n",
              "    }\n",
              "  </style>\n",
              "\n",
              "      <script>\n",
              "        const buttonEl =\n",
              "          document.querySelector('#df-5d3e03ea-89fd-4083-a58a-d0c34b1535f3 button.colab-df-convert');\n",
              "        buttonEl.style.display =\n",
              "          google.colab.kernel.accessAllowed ? 'block' : 'none';\n",
              "\n",
              "        async function convertToInteractive(key) {\n",
              "          const element = document.querySelector('#df-5d3e03ea-89fd-4083-a58a-d0c34b1535f3');\n",
              "          const dataTable =\n",
              "            await google.colab.kernel.invokeFunction('convertToInteractive',\n",
              "                                                     [key], {});\n",
              "          if (!dataTable) return;\n",
              "\n",
              "          const docLinkHtml = 'Like what you see? Visit the ' +\n",
              "            '<a target=\"_blank\" href=https://colab.research.google.com/notebooks/data_table.ipynb>data table notebook</a>'\n",
              "            + ' to learn more about interactive tables.';\n",
              "          element.innerHTML = '';\n",
              "          dataTable['output_type'] = 'display_data';\n",
              "          await google.colab.output.renderOutput(dataTable, element);\n",
              "          const docLink = document.createElement('div');\n",
              "          docLink.innerHTML = docLinkHtml;\n",
              "          element.appendChild(docLink);\n",
              "        }\n",
              "      </script>\n",
              "    </div>\n",
              "  </div>\n",
              "  "
            ]
          },
          "metadata": {},
          "execution_count": 3
        }
      ],
      "source": [
        "import numpy as np\n",
        "import pandas as pd\n",
        "weatherData = pd.read_csv(\"/content/sample_data/weatherHistory.csv\")\n",
        "weatherData.head()"
      ]
    },
    {
      "cell_type": "code",
      "source": [
        "from sklearn.preprocessing import PolynomialFeatures\n",
        "from sklearn.model_selection import train_test_split\n",
        "from sklearn import preprocessing\n",
        "\n",
        "\n",
        "weatherFeatures = [\"Temperature (C)\",\"Apparent Temperature (C)\",\"Wind Speed (km/h)\", \n",
        "                   \"Wind Bearing (degrees)\",\"Visibility (km)\",\"Pressure (millibars)\"]\n",
        "\n",
        "X = weatherData[weatherFeatures]\n",
        "y = weatherData.Humidity\n",
        "\n",
        "\n",
        "X_scaled  = preprocessing.scale(X)\n",
        "\n",
        "poly = PolynomialFeatures(7)\n",
        "\n",
        "X_final = poly.fit_transform(X_scaled)\n",
        "\n",
        "X_train, X_test, y_train, y_test = train_test_split(X_final, y, test_size=0.10, random_state=42)"
      ],
      "metadata": {
        "id": "1Qbyd9_WCZFS"
      },
      "execution_count": 4,
      "outputs": []
    },
    {
      "cell_type": "code",
      "source": [
        "from sklearn import linear_model\n",
        "\n",
        "regr = linear_model.Ridge(alpha = 0.5)\n",
        "regr.fit(X_train, y_train)\n",
        "y_pred = regr.predict(X_test)"
      ],
      "metadata": {
        "colab": {
          "base_uri": "https://localhost:8080/"
        },
        "id": "e7v2xULNCrwF",
        "outputId": "a1fe9e22-dd87-47d4-fea5-bdb9558d6314"
      },
      "execution_count": 5,
      "outputs": [
        {
          "output_type": "stream",
          "name": "stderr",
          "text": [
            "/usr/local/lib/python3.7/dist-packages/sklearn/linear_model/_ridge.py:157: LinAlgWarning: Ill-conditioned matrix (rcond=7.22381e-18): result may not be accurate.\n",
            "  return linalg.solve(A, Xy, sym_pos=True, overwrite_a=True).T\n"
          ]
        }
      ]
    },
    {
      "cell_type": "code",
      "source": [
        "from sklearn.metrics import mean_squared_error, r2_score\n",
        "\n",
        "print(\"Intercept: \", regr.intercept_)\n",
        "\n",
        "print('Coefficients: ', len(regr.coef_ ))\n",
        "\n",
        "print('Mean squared error: %.3f' % mean_squared_error(y_test,  y_pred))\n",
        "\n",
        "print('Coefficient of determination: %.3f' % r2_score(y_test, y_pred))"
      ],
      "metadata": {
        "colab": {
          "base_uri": "https://localhost:8080/"
        },
        "id": "LuiFBowuE2jD",
        "outputId": "906f35da-042b-4ed9-e959-0be41f8de0c8"
      },
      "execution_count": 7,
      "outputs": [
        {
          "output_type": "stream",
          "name": "stdout",
          "text": [
            "Intercept:  0.7894705531604792\n",
            "Coefficients:  1716\n",
            "Mean squared error: 0.012\n",
            "Coefficient of determination: 0.676\n"
          ]
        }
      ]
    },
    {
      "cell_type": "code",
      "source": [
        "weatherObs = [[32, 31.4, 44, 344, 13, 1020.33]]\n",
        "\n",
        "# Apply the same preprocessing steps\n",
        "weatherObs_scaled = preprocessing.scale(weatherObs) \n",
        "weatherObs_final = poly.fit_transform(weatherObs_scaled)\n",
        "\n",
        "# Use our model to make a prediction for Humidity\n",
        "y_pred = regr.predict(weatherObs_final)\n",
        "y_pred"
      ],
      "metadata": {
        "colab": {
          "base_uri": "https://localhost:8080/"
        },
        "id": "E-C94hycFBkl",
        "outputId": "73d84b14-cbb4-4f22-c4c2-df8ca3942288"
      },
      "execution_count": 8,
      "outputs": [
        {
          "output_type": "execute_result",
          "data": {
            "text/plain": [
              "array([0.78947055])"
            ]
          },
          "metadata": {},
          "execution_count": 8
        }
      ]
    }
  ]
}